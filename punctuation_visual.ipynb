{
 "cells": [
  {
   "cell_type": "markdown",
   "metadata": {},
   "source": [
    "# Punctuation art with Python"
   ]
  },
  {
   "cell_type": "markdown",
   "metadata": {},
   "source": [
    "In 2022, I saw <a href = https://artishockrevista.com/2022/06/23/pedro-reyes-escultura-social>\"Escultura Social\" </a> , a collection of pieces by Pedro Reyes. The artist reflected on many current issues but also reflected on the importance of language. The description detailed how the artist thought of punctuation as 2 dimensional sculpture. A symbol which represented an abstract notion.\n",
    "\n",
    "I later saw the work of [Nicholas Rougeaux](https://www.c82.net/work/?id=347) who also analyzed punctuation, but strictly in the context of analyzing the structure of classical literature, such as Pride and Prejudice, Moby Dick, and Alice's Adventures in Wonderland.\n",
    "\n",
    "I really enjoyed both of these projects and simply set out to see if I could replicate them. There are a number of classical texts I enjoy and I wanted to see what they would look like. I was able to use the <a href=https://jss367.github.io/getting-text-from-project-gutenberg.html> code written by Julius Simonelli </a> to scrape raw text data from the Gutenberg project. His code was really helpful."
   ]
  },
  {
   "cell_type": "code",
   "execution_count": 1,
   "metadata": {},
   "outputs": [],
   "source": [
    "# Import necessary libraries\n",
    "import os\n",
    "from urllib import request\n",
    "import nltk\n",
    "import re\n",
    "import spacy\n",
    "import en_core_web_sm\n",
    "from html2image import Html2Image"
   ]
  },
  {
   "cell_type": "markdown",
   "metadata": {},
   "source": [
    "## Web scrapping raw Gutenberg file (Adapted from Julius Simonelli)"
   ]
  },
  {
   "cell_type": "code",
   "execution_count": 2,
   "metadata": {},
   "outputs": [],
   "source": [
    "# Define function for web scrapping\n",
    "\n",
    "def text_from_gutenberg(title, author, url, path = 'corpora/canon_texts/', return_raw = False, return_tokens = False):\n",
    "    # Convert inputs to lowercase\n",
    "    title = title.lower()\n",
    "    author = title.lower()\n",
    "   \n",
    "    # Check if the file is stored locally\n",
    "    filename = 'corpora/canon_texts/' + title\n",
    "    if os.path.isfile(filename) and os.stat(filename).st_size != 0:\n",
    "        print(\"{title} file already exists\".format(title=title))\n",
    "        print(filename)\n",
    "        with open(filename, 'r') as f:\n",
    "            raw = f.read()\n",
    "\n",
    "    else:\n",
    "        print(\"{title} file does not already exist. Grabbing from Project Gutenberg\".format(title=title))\n",
    "        response = request.urlopen(url)\n",
    "        raw = response.read().decode('utf-8-sig')\n",
    "        print(\"Saving {title} file\".format(title=title))\n",
    "        with open(filename, 'w') as outfile:\n",
    "            outfile.write(raw)\n",
    "            \n",
    "    if return_raw:\n",
    "        return raw\n",
    "    \n",
    "    # Option to return tokens\n",
    "    if return_tokens:\n",
    "        return nltk.word_tokenize(find_text(raw))\n",
    "    \n",
    "    else:\n",
    "        return find_beginning_and_end(raw)"
   ]
  },
  {
   "cell_type": "markdown",
   "metadata": {},
   "source": [
    "## Use Case: Plato's Apology"
   ]
  },
  {
   "cell_type": "markdown",
   "metadata": {},
   "source": [
    "### Gutenberg Text Info"
   ]
  },
  {
   "cell_type": "code",
   "execution_count": 3,
   "metadata": {},
   "outputs": [],
   "source": [
    "title = 'Apology'\n",
    "author = 'Plato'\n",
    "url = 'https://gutenberg.org/cache/epub/1656/pg1656.txt'"
   ]
  },
  {
   "cell_type": "markdown",
   "metadata": {},
   "source": [
    "### Filtering manually, based on review of .text file"
   ]
  },
  {
   "cell_type": "code",
   "execution_count": 4,
   "metadata": {},
   "outputs": [
    {
     "name": "stdout",
     "output_type": "stream",
     "text": [
      "apology file already exists\n",
      "corpora/canon_texts/apology\n"
     ]
    }
   ],
   "source": [
    "# Find beginning of actual Apology in Raw Text\n",
    "raw = text_from_gutenberg(title=title, author=author, url=url, return_raw=True)\n",
    "\n",
    "# Search for beginning of Apology\n",
    "phrase_to_find = \"How you, O Athenians\"\n",
    "\n",
    "matches = re.finditer(re.escape(phrase_to_find), raw)\n",
    "\n",
    "for match in matches:\n",
    "    start_index = match.start()\n",
    "\n",
    "# Search for end of apology\n",
    "end_regex = '\\*\\*\\*\\ end of the project gutenberg ebook'\n",
    "end_position = re.search(end_regex, raw.lower())\n",
    "end_position.start()\n",
    "\n",
    "# Filter based on beginning and end of text\n",
    "text = raw[start_index:end_position.start()]"
   ]
  },
  {
   "cell_type": "markdown",
   "metadata": {},
   "source": [
    "### Filtering using spaCy: new line characters & retaining punctuation"
   ]
  },
  {
   "cell_type": "code",
   "execution_count": 5,
   "metadata": {},
   "outputs": [],
   "source": [
    "# Filter out new line character and underscore\n",
    "text_no_new = text.replace('\\n', '')\n",
    "text_no_underscore = text.replace('_', '')\n",
    "\n",
    "# Tokenize text so it can be fed to spaCy\n",
    "nlp = spacy.load(\"en_core_web_sm\")\n",
    "tokenized = nlp(text_no_underscore)\n"
   ]
  },
  {
   "cell_type": "code",
   "execution_count": 6,
   "metadata": {},
   "outputs": [],
   "source": [
    "# Define spaCy pipeline to exclude new line characters and only retain punctuation\n",
    "\n",
    "def preprocessing(tokenized):\n",
    "    normalized_text = []\n",
    "    for token in tokenized:\n",
    "        # Lays out requirements: not punct, not stop word, not num, not email, and not url\n",
    "        if token.is_punct:\n",
    "            normalized_text.append(token.text) # Takes lemma of word that meets all requirements\n",
    "    return ' '.join(normalized_text)\n",
    "\n",
    "# Extract punctuation using spaCy pipeline\n",
    "punctuation = preprocessing(tokenized)"
   ]
  },
  {
   "cell_type": "markdown",
   "metadata": {},
   "source": [
    "### Create Poster as HTML\n",
    "\n",
    "The background image I am using was creadted by <a href=\"https://unsplash.com/@henry_be?utm_content=creditCopyText&utm_medium=referral&utm_source=unsplash\">Henry Be</a> on <a href=\"https://unsplash.com/photos/assorted-title-book-lot-on-shelf-TCsCykbwSJw?utm_content=creditCopyText&utm_medium=referral&utm_source=unsplash\"> Unsplash</a>.\n",
    "  "
   ]
  },
  {
   "cell_type": "code",
   "execution_count": 7,
   "metadata": {},
   "outputs": [],
   "source": [
    "# Define the background image URL with a relative path\n",
    "background_image_url = 'url(\"Images/Henry_Be_Unsplash.jpg\")'\n",
    "# background_image_url = 'url(\"Henry_Be_Unsplash.jpg\")'\n",
    "\n",
    "row_number = len(punctuation)/50\n",
    "\n",
    "# Define the HTML content\n",
    "html_content = f\"\"\"\n",
    "<!DOCTYPE html>\n",
    "<html>\n",
    "<head>\n",
    "    <title>HTML with Background Image and Page Dimensions</title>\n",
    "    <style>\n",
    "        body {{\n",
    "            background-image: {background_image_url};\n",
    "            background-repeat: no-repeat;\n",
    "            background-size: cover;\n",
    "            display: flex;\n",
    "            flex-direction: column;\n",
    "            justify-content: center;\n",
    "            align-items: center;\n",
    "            }}\n",
    "        textarea {{\n",
    "            background: #FFFFED;\n",
    "            width: 850px;\n",
    "            height: 425px;\n",
    "            margin-top: 3px;\n",
    "        }}\n",
    "\n",
    "        #title {{\n",
    "            color: #FFFFED;  /* Replace with your desired text color, e.g., red */\n",
    "            font-size: 56px;  /* Replace with your desired font size */\n",
    "            text-align: center; /* Center the text horizontally */\n",
    "        }}\n",
    "    </style>\n",
    "</head>\n",
    "<body>\n",
    "    <p id = \"title\"> Punctuation symbols in {title} by {author} </p>\n",
    "    <textarea id=\"textbox\" rows=\"{row_number}\">{punctuation}</textarea>\n",
    "</body>\n",
    "</html>\n",
    "\"\"\"\n",
    "\n",
    "   \n",
    "# Specify the file name and join it with the current working directory\n",
    "file_name = \"poster.html\"\n",
    "file_path = os.path.join(os.getcwd(), file_name)\n",
    "\n",
    "with open(file_path, \"w\") as file:\n",
    "    # Write the HTML content to the file\n",
    "    file.write(html_content)\n"
   ]
  },
  {
   "cell_type": "code",
   "execution_count": 8,
   "metadata": {},
   "outputs": [
    {
     "data": {
      "text/plain": [
       "['c:\\\\Users\\\\Sebastian\\\\Desktop\\\\Portfolio\\\\Punctuation-Art\\\\page.png']"
      ]
     },
     "execution_count": 8,
     "metadata": {},
     "output_type": "execute_result"
    }
   ],
   "source": [
    "# Convert HTML to Image\n",
    "hti = Html2Image()\n",
    "\n",
    "hti.screenshot(html_str=html_content, save_as='page.png')\n",
    "# imgkit.from_string('Hello!', 'out.jpg')"
   ]
  },
  {
   "cell_type": "markdown",
   "metadata": {},
   "source": [
    "### Optional: general function to filter out text within raw Gutenberg file"
   ]
  },
  {
   "cell_type": "code",
   "execution_count": 9,
   "metadata": {},
   "outputs": [],
   "source": [
    "def find_beginning_and_end(raw):\n",
    "    '''\n",
    "    This function serves to find the text within the raw data provided by Project Gutenberg\n",
    "    '''\n",
    "    \n",
    "    start_regex = '\\*\\*\\*\\s?START OF TH(IS|E) PROJECT GUTENBERG EBOOK.*\\*\\*\\*'\n",
    "    draft_start_position = re.search(start_regex, raw)\n",
    "    begining = draft_start_position.end()\n",
    "\n",
    "    if re.search(title.lower(), raw[draft_start_position.end():].lower()):\n",
    "        title_position = re.search(title.lower(), raw[draft_start_position.end():].lower())\n",
    "        begining += title_position.end()\n",
    "        # If the title is present, check for the author's name as well\n",
    "        if re.search(author.lower(), raw[draft_start_position.end() + title_position.end():].lower()):\n",
    "            author_position = re.search(author.lower(), raw[draft_start_position.end() + title_position.end():].lower())\n",
    "            begining += author_position.end()\n",
    "    \n",
    "    end_regex = '\\*\\*\\*\\ end of th(is|e) project gutenberg ebook'\n",
    "    end_position = re.search(end_regex, raw.lower())\n",
    "\n",
    "    text = raw[begining:end_position.start()]\n",
    "    \n",
    "    return text"
   ]
  },
  {
   "cell_type": "markdown",
   "metadata": {},
   "source": [
    "### Now you: Choose your own text\n",
    "\n",
    "[Project Gutenberg](https://gutenberg.org/) is a wonderful resource that makes classical literature readily available on the internet. Find any text you are interested in and copy the link to the raw text file.\n",
    "\n"
   ]
  },
  {
   "cell_type": "code",
   "execution_count": 10,
   "metadata": {},
   "outputs": [],
   "source": [
    "# Define text of interest\n",
    "\n",
    "# Replace here the title, author, and url objects to make your own poster!\n",
    "\n",
    "title = 'Emma'\n",
    "author = 'Jane Austen'\n",
    "url = 'https://gutenberg.org/cache/epub/158/pg158.txt'"
   ]
  },
  {
   "cell_type": "code",
   "execution_count": 11,
   "metadata": {},
   "outputs": [
    {
     "name": "stdout",
     "output_type": "stream",
     "text": [
      "emma file already exists\n",
      "corpora/canon_texts/emma\n"
     ]
    }
   ],
   "source": [
    "# Scrape Raw Text\n",
    "raw = text_from_gutenberg(title=title, author=author, url=url, return_raw=True)\n",
    "\n",
    "# Filter on beginning and end\n",
    "text = find_beginning_and_end(raw)\n",
    "\n",
    "# Filter out new line character and underscore\n",
    "text_no_new = text.replace('\\n', '')\n",
    "text_no_underscore = text.replace('_', '')\n",
    "\n",
    "# Tokenize text so it can be fed to spaCy\n",
    "nlp = spacy.load(\"en_core_web_sm\")\n",
    "tokenized = nlp(text_no_underscore)\n",
    "\n",
    "# Extract punctuation using spaCy pipeline\n",
    "punctuation = preprocessing(tokenized)"
   ]
  },
  {
   "cell_type": "code",
   "execution_count": null,
   "metadata": {},
   "outputs": [],
   "source": [
    "# Define the HTML content\n",
    "html_content = f\"\"\"\n",
    "<!DOCTYPE html>\n",
    "<html>\n",
    "<head>\n",
    "    <title>HTML with Background Image and Page Dimensions</title>\n",
    "    <style>\n",
    "        body {{\n",
    "            background-image: {background_image_url};\n",
    "            background-repeat: no-repeat;\n",
    "            background-size: cover;\n",
    "            display: flex;\n",
    "            flex-direction: column;\n",
    "            justify-content: center;\n",
    "            align-items: center;\n",
    "            }}\n",
    "        textarea {{\n",
    "            background: #FFFFED;\n",
    "            width: 850px;\n",
    "            height: 425px;\n",
    "            margin-top: 3px;\n",
    "        }}\n",
    "\n",
    "        #title {{\n",
    "            color: #FFFFED;  /* Replace with your desired text color, e.g., red */\n",
    "            font-size: 56px;  /* Replace with your desired font size */\n",
    "            text-align: center; /* Center the text horizontally */\n",
    "        }}\n",
    "    </style>\n",
    "</head>\n",
    "<body>\n",
    "    <p id = \"title\"> Punctuation in {title} by {author} </p>\n",
    "    <textarea id=\"textbox\" rows=\"{row_number}\">{punctuation}</textarea>\n",
    "</body>\n",
    "</html>\n",
    "\"\"\"\n"
   ]
  },
  {
   "cell_type": "code",
   "execution_count": null,
   "metadata": {},
   "outputs": [],
   "source": [
    "# Specify the file name and join it with the current working directory\n",
    "file_name = \"emma.html\"\n",
    "file_path = os.path.join(os.getcwd(), file_name)\n",
    "\n",
    "with open(file_path, \"w\") as file:\n",
    "    # Write the HTML content to the file\n",
    "    file.write(html_content)"
   ]
  }
 ],
 "metadata": {
  "kernelspec": {
   "display_name": "punctuation-art",
   "language": "python",
   "name": "python3"
  },
  "language_info": {
   "codemirror_mode": {
    "name": "ipython",
    "version": 3
   },
   "file_extension": ".py",
   "mimetype": "text/x-python",
   "name": "python",
   "nbconvert_exporter": "python",
   "pygments_lexer": "ipython3",
   "version": "3.9.18"
  }
 },
 "nbformat": 4,
 "nbformat_minor": 2
}
